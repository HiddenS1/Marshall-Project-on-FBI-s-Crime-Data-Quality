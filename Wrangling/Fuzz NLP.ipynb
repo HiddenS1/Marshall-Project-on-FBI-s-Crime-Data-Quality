{
 "cells": [
  {
   "cell_type": "code",
   "execution_count": 2,
   "id": "a57c3863",
   "metadata": {},
   "outputs": [],
   "source": [
    "import pandas as pd\n",
    "import math\n",
    "import numpy as np"
   ]
  },
  {
   "cell_type": "code",
   "execution_count": 25,
   "id": "5e3301f4",
   "metadata": {},
   "outputs": [],
   "source": [
    "from thefuzz import fuzz, process"
   ]
  },
  {
   "cell_type": "code",
   "execution_count": 113,
   "id": "3adc5c66",
   "metadata": {},
   "outputs": [],
   "source": [
    "# Ignore stopwords and highlight keywords\n",
    "stopwords = ['of', 'and', 'in', 'police', 'department', 'pd', 'dept']\n",
    "keywords = ['vlg', 'village', 'vg']"
   ]
  },
  {
   "cell_type": "code",
   "execution_count": 118,
   "id": "ba571d34",
   "metadata": {},
   "outputs": [],
   "source": [
    "def custom_scorer(s1, s2):\n",
    "    s1 = s1.replace('-', ' ')\n",
    "    s2 = s2.replace('-', ' ')\n",
    "    words1 = [i for i in s1.lower().split() if i not in stopwords]\n",
    "    words2 = [i for i in s2.lower().split() if i not in stopwords]\n",
    "    is_key1 = any([i in keywords for i in words1])\n",
    "    is_key2 = any([i in keywords for i in words2])\n",
    "    similarity = fuzz.ratio(words1, words2)    \n",
    "    if is_key1 and is_key2:\n",
    "        similarity += 10\n",
    "    first_word_similarity = fuzz.ratio(words1[:1], words2[:1])\n",
    "    return similarity + first_word_similarity"
   ]
  },
  {
   "cell_type": "code",
   "execution_count": 150,
   "id": "9d80e01e",
   "metadata": {},
   "outputs": [],
   "source": [
    "city_connect = {}\n",
    "for item1 in city_NY:\n",
    "    highest_similarity = 0  \n",
    "    matching_item = None  \n",
    "    for item2 in city_report:\n",
    "        similarity = custom_scorer(item1,item2)\n",
    "        if similarity > highest_similarity:\n",
    "            highest_similarity = similarity\n",
    "            matching_item = item2\n",
    "    city_connect[item1] = matching_item"
   ]
  }
 ],
 "metadata": {
  "kernelspec": {
   "display_name": "Python 3 (ipykernel)",
   "language": "python",
   "name": "python3"
  },
  "language_info": {
   "codemirror_mode": {
    "name": "ipython",
    "version": 3
   },
   "file_extension": ".py",
   "mimetype": "text/x-python",
   "name": "python",
   "nbconvert_exporter": "python",
   "pygments_lexer": "ipython3",
   "version": "3.11.4"
  }
 },
 "nbformat": 4,
 "nbformat_minor": 5
}
